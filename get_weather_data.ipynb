{
 "cells": [
  {
   "cell_type": "markdown",
   "metadata": {},
   "source": [
    "#### Load the necessary packages"
   ]
  },
  {
   "cell_type": "code",
   "execution_count": 5,
   "metadata": {},
   "outputs": [],
   "source": [
    "library(rvest)\n",
    "library(stringr)"
   ]
  },
  {
   "cell_type": "markdown",
   "metadata": {},
   "source": [
    "#### Define a function to get weather data"
   ]
  },
  {
   "cell_type": "code",
   "execution_count": 12,
   "metadata": {},
   "outputs": [],
   "source": [
    "get_weather_data<-function(start_date, end_date, city){\n",
    "    \n",
    "    start_date<-strsplit(start_date, \"-\")[[1]]\n",
    "    start_y<-as.integer(start_date[1])\n",
    "    start_m<-as.integer(start_date[2])\n",
    "    end_date<-strsplit(end_date, \"-\")[[1]]\n",
    "    end_y<-as.integer(end_date[1])\n",
    "    end_m<-as.integer(end_date[2])\n",
    "    \n",
    "    failed<-c()\n",
    "  \n",
    "  if(start_y>end_y) {\n",
    "    stop(\"start year must be earier than end year\")\n",
    "  }\n",
    "  \n",
    "  if(start_y==end_y){\n",
    "    Y<-rep(start_y,times=end_m-start_m+1)\n",
    "    M<-str_pad(start_m:end_m, width = 2, side = \"left\", pad = \"0\")\n",
    "  } else{\n",
    "    Y<-rep(c(start_y:end_y),times=c(12-start_m+1, rep(12, end_y-start_y-1), end_m-1+1))\n",
    "    M<-c(str_pad(start_m:12, width = 2, side = \"left\", pad = \"0\"),\n",
    "         rep(1:12, times=end_y-start_y-1),\n",
    "         str_pad(1:end_m, width = 2, side = \"left\", pad = \"0\"))\n",
    "  }\n",
    "  \n",
    "  ds<-rbind()\n",
    "  for(i in 1:length(Y)){\n",
    "    url<-paste0('http://lishi.tianqi.com/',city,'/',Y[i],M[i],'.html')\n",
    "    web<-read_html(url)\n",
    "    d_t<-web%>%html_nodes('.thrui div')%>%html_text()\n",
    "    d_t<-d_t[-length(d_t)]\n",
    "    ds.tmp<-matrix(d_t,ncol=5,byrow=T)\n",
    "    \n",
    "    if(nrow(ds.tmp)<2) {\n",
    "      failed<-c(failed,paste0(Y[i],M[i]))\n",
    "    } \n",
    "    ds<-rbind(ds,ds.tmp)\n",
    "    Sys.sleep(runif(1,0,1))\n",
    "  }\n",
    "  \n",
    "  ds1<-as.data.frame(ds)\n",
    "  names(ds1)<-c(\"date\",\"max\",\"min\",\"weather\",\"wind\")\n",
    "  \n",
    "  return(list(\"data\"=ds1,\n",
    "             \"failed\"=failed))\n",
    "}"
   ]
  },
  {
   "cell_type": "markdown",
   "metadata": {},
   "source": [
    "#### Example\n",
    "\n",
    "Get weather data for Mianyang from Jan 2011 to Oct 2012"
   ]
  },
  {
   "cell_type": "code",
   "execution_count": 13,
   "metadata": {},
   "outputs": [],
   "source": [
    "result<-get_weather_data(start_date = \"2011-1\",\n",
    "                     end_date = \"2011-10\",\n",
    "                     city = \"mianyang\")"
   ]
  },
  {
   "cell_type": "markdown",
   "metadata": {},
   "source": [
    "#### View data"
   ]
  },
  {
   "cell_type": "code",
   "execution_count": 15,
   "metadata": {},
   "outputs": [
    {
     "data": {
      "text/html": [
       "<table>\n",
       "<caption>A data.frame: 6 × 5</caption>\n",
       "<thead>\n",
       "\t<tr><th></th><th scope=col>date</th><th scope=col>max</th><th scope=col>min</th><th scope=col>weather</th><th scope=col>wind</th></tr>\n",
       "\t<tr><th></th><th scope=col>&lt;fct&gt;</th><th scope=col>&lt;fct&gt;</th><th scope=col>&lt;fct&gt;</th><th scope=col>&lt;fct&gt;</th><th scope=col>&lt;fct&gt;</th></tr>\n",
       "</thead>\n",
       "<tbody>\n",
       "\t<tr><th scope=row>1</th><td>2011-01-01  </td><td>4℃</td><td>0℃</td><td>阴~阵雨</td><td>北风 微风       </td></tr>\n",
       "\t<tr><th scope=row>2</th><td>2011-01-02  </td><td>5℃</td><td>1℃</td><td>阴~阵雨</td><td>北风~旋转风 微风</td></tr>\n",
       "\t<tr><th scope=row>3</th><td>2011-01-03  </td><td>6℃</td><td>1℃</td><td>阵雨   </td><td>旋转风 微风     </td></tr>\n",
       "\t<tr><th scope=row>4</th><td>2011-01-04  </td><td>6℃</td><td>1℃</td><td>阵雨   </td><td>旋转风~北风 微风</td></tr>\n",
       "\t<tr><th scope=row>5</th><td>2011-01-05  </td><td>3℃</td><td>1℃</td><td>阵雨   </td><td>北风~旋转风 微风</td></tr>\n",
       "\t<tr><th scope=row>6</th><td>2011-01-06  </td><td>4℃</td><td>1℃</td><td>多云   </td><td>旋转风 微风     </td></tr>\n",
       "</tbody>\n",
       "</table>\n"
      ],
      "text/latex": [
       "A data.frame: 6 × 5\n",
       "\\begin{tabular}{r|lllll}\n",
       "  & date & max & min & weather & wind\\\\\n",
       "  & <fct> & <fct> & <fct> & <fct> & <fct>\\\\\n",
       "\\hline\n",
       "\t1 & 2011-01-01   & 4℃ & 0℃ & 阴\\textasciitilde{}阵雨 & 北风 微风       \\\\\n",
       "\t2 & 2011-01-02   & 5℃ & 1℃ & 阴\\textasciitilde{}阵雨 & 北风\\textasciitilde{}旋转风 微风\\\\\n",
       "\t3 & 2011-01-03   & 6℃ & 1℃ & 阵雨    & 旋转风 微风     \\\\\n",
       "\t4 & 2011-01-04   & 6℃ & 1℃ & 阵雨    & 旋转风\\textasciitilde{}北风 微风\\\\\n",
       "\t5 & 2011-01-05   & 3℃ & 1℃ & 阵雨    & 北风\\textasciitilde{}旋转风 微风\\\\\n",
       "\t6 & 2011-01-06   & 4℃ & 1℃ & 多云    & 旋转风 微风     \\\\\n",
       "\\end{tabular}\n"
      ],
      "text/markdown": [
       "\n",
       "A data.frame: 6 × 5\n",
       "\n",
       "| <!--/--> | date &lt;fct&gt; | max &lt;fct&gt; | min &lt;fct&gt; | weather &lt;fct&gt; | wind &lt;fct&gt; |\n",
       "|---|---|---|---|---|---|\n",
       "| 1 | 2011-01-01   | 4℃ | 0℃ | 阴~阵雨 | 北风 微风        |\n",
       "| 2 | 2011-01-02   | 5℃ | 1℃ | 阴~阵雨 | 北风~旋转风 微风 |\n",
       "| 3 | 2011-01-03   | 6℃ | 1℃ | 阵雨    | 旋转风 微风      |\n",
       "| 4 | 2011-01-04   | 6℃ | 1℃ | 阵雨    | 旋转风~北风 微风 |\n",
       "| 5 | 2011-01-05   | 3℃ | 1℃ | 阵雨    | 北风~旋转风 微风 |\n",
       "| 6 | 2011-01-06   | 4℃ | 1℃ | 多云    | 旋转风 微风      |\n",
       "\n"
      ],
      "text/plain": [
       "  date         max min weather wind            \n",
       "1 2011-01-01   4℃  0℃  阴~阵雨 北风 微风       \n",
       "2 2011-01-02   5℃  1℃  阴~阵雨 北风~旋转风 微风\n",
       "3 2011-01-03   6℃  1℃  阵雨    旋转风 微风     \n",
       "4 2011-01-04   6℃  1℃  阵雨    旋转风~北风 微风\n",
       "5 2011-01-05   3℃  1℃  阵雨    北风~旋转风 微风\n",
       "6 2011-01-06   4℃  1℃  多云    旋转风 微风     "
      ]
     },
     "metadata": {},
     "output_type": "display_data"
    }
   ],
   "source": [
    "head(result$data, 6)"
   ]
  },
  {
   "cell_type": "markdown",
   "metadata": {},
   "source": [
    "#### View the year and month when the acquisition failed"
   ]
  },
  {
   "cell_type": "code",
   "execution_count": 17,
   "metadata": {},
   "outputs": [
    {
     "data": {
      "text/plain": [
       "NULL"
      ]
     },
     "metadata": {},
     "output_type": "display_data"
    }
   ],
   "source": [
    "result$failed"
   ]
  }
 ],
 "metadata": {
  "kernelspec": {
   "display_name": "R36",
   "language": "R",
   "name": "ir36"
  },
  "language_info": {
   "codemirror_mode": "r",
   "file_extension": ".r",
   "mimetype": "text/x-r-source",
   "name": "R",
   "pygments_lexer": "r",
   "version": "3.6.3"
  }
 },
 "nbformat": 4,
 "nbformat_minor": 2
}
